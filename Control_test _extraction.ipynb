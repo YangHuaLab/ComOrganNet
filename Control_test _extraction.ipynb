{
 "cells": [
  {
   "cell_type": "code",
   "execution_count": 1,
   "metadata": {},
   "outputs": [],
   "source": [
    "import os\n",
    "from collections import Counter\n",
    "from random import sample\n",
    "import pandas as pd\n",
    "import shutil"
   ]
  },
  {
   "cell_type": "markdown",
   "metadata": {},
   "source": [
    "## 生成抽取control组图像的列表"
   ]
  },
  {
   "cell_type": "code",
   "execution_count": 4,
   "metadata": {},
   "outputs": [],
   "source": [
    "filenames = os.listdir('./crop_images/crop_merge_ch1ch2ch3/control/')\n",
    "date_data = [i[:6] for i in filenames]\n",
    "date_set = list(set(date_data))\n",
    "\n",
    "date_count = Counter(date_data)\n"
   ]
  },
  {
   "cell_type": "code",
   "execution_count": 7,
   "metadata": {},
   "outputs": [],
   "source": [
    "selected_images = []\n",
    "for date in date_set:\n",
    "    temp = [i for i in filenames if i[:6]==date]\n",
    "    select_num = int(date_count[date]/2)\n",
    "    selected_images.extend(sample(temp, select_num))"
   ]
  },
  {
   "cell_type": "code",
   "execution_count": 11,
   "metadata": {},
   "outputs": [],
   "source": [
    "df = pd.DataFrame({'selected_crop_merge': selected_images})\n",
    "df['selected_ch1'] = df.apply(lambda x: x['selected_crop_merge'][:20]+'ch1'+x['selected_crop_merge'][-11:], axis=1)\n",
    "df['selected_ch2'] = df.apply(lambda x: x['selected_crop_merge'][:20]+'ch2'+x['selected_crop_merge'][-11:], axis=1)\n",
    "df['selected_ch3'] = df.apply(lambda x: x['selected_crop_merge'][:20]+'ch3'+x['selected_crop_merge'][-11:], axis=1)\n",
    "df['selected_ch4'] = df.apply(lambda x: x['selected_crop_merge'][:20]+'ch4'+x['selected_crop_merge'][-11:], axis=1)\n",
    "df.to_csv('./crop_images/control_selected.csv')"
   ]
  },
  {
   "cell_type": "markdown",
   "metadata": {},
   "source": [
    "### 抽取10.2-10.15的control组"
   ]
  },
  {
   "cell_type": "code",
   "execution_count": 2,
   "metadata": {},
   "outputs": [],
   "source": [
    "filenames = os.listdir('./crop_images_10.2-10.15/crop_merge_ch1ch2ch3ch4/control/')\n",
    "date_data = [i[:6] for i in filenames]\n",
    "date_set = list(set(date_data))\n",
    "\n",
    "date_count = Counter(date_data)\n",
    "\n",
    "\n",
    "selected_images = []\n",
    "for date in date_set:\n",
    "    temp = [i for i in filenames if i[:6]==date]\n",
    "    select_num = int(date_count[date]/2)\n",
    "    selected_images.extend(sample(temp, select_num))\n",
    "\n",
    "\n",
    "df = pd.DataFrame({'selected_crop_merge': selected_images})\n",
    "df['selected_ch1'] = df.apply(lambda x: x['selected_crop_merge'][:20]+'ch1'+x['selected_crop_merge'][-11:], axis=1)\n",
    "df['selected_ch2'] = df.apply(lambda x: x['selected_crop_merge'][:20]+'ch2'+x['selected_crop_merge'][-11:], axis=1)\n",
    "df['selected_ch3'] = df.apply(lambda x: x['selected_crop_merge'][:20]+'ch3'+x['selected_crop_merge'][-11:], axis=1)\n",
    "df['selected_ch4'] = df.apply(lambda x: x['selected_crop_merge'][:20]+'ch4'+x['selected_crop_merge'][-11:], axis=1)\n",
    "df.to_csv('./crop_images_10.2-10.15/control_selected_10.2-10.15.csv')"
   ]
  },
  {
   "cell_type": "markdown",
   "metadata": {},
   "source": [
    "## 抽取图像操作"
   ]
  },
  {
   "cell_type": "code",
   "execution_count": 3,
   "metadata": {},
   "outputs": [],
   "source": [
    "def mkdir(path):\n",
    "    folder = os.path.exists(path)\n",
    "    if not folder:\n",
    "        os.makedirs(path)"
   ]
  },
  {
   "cell_type": "code",
   "execution_count": 14,
   "metadata": {},
   "outputs": [],
   "source": [
    "df = pd.read_csv('./crop_images/control_selected.csv', index_col=0)"
   ]
  },
  {
   "cell_type": "code",
   "execution_count": 18,
   "metadata": {},
   "outputs": [],
   "source": [
    "# select单通道图像\n",
    "for ch in range(1, 5):\n",
    "    mkdir(f'./crop_images/ch{ch}_crop/control_selected')\n",
    "\n",
    "    src = f'./crop_images/ch{ch}_crop/control/'\n",
    "    dsc = f'./crop_images/ch{ch}_crop/control_selected/'\n",
    "    for fn in df[f'selected_ch{ch}']:\n",
    "        shutil.copy(src+fn, dsc)"
   ]
  },
  {
   "cell_type": "code",
   "execution_count": 19,
   "metadata": {},
   "outputs": [],
   "source": [
    "# select多通道图像\n",
    "foldernames = ['ch1ch2ch3','ch1ch2ch3ch4','ch1ch2ch4','ch1ch3ch4','ch2ch3ch4']\n",
    "for foldername in foldernames:\n",
    "    mkdir(f'./crop_images/crop_merge_{foldername}/control_selected')\n",
    "\n",
    "    src = f'./crop_images/crop_merge_{foldername}/control/'\n",
    "    dsc = f'./crop_images/crop_merge_{foldername}/control_selected/'\n",
    "    \n",
    "    for fn in df['selected_crop_merge']:\n",
    "        shutil.copy(src+fn, dsc)"
   ]
  },
  {
   "cell_type": "markdown",
   "metadata": {},
   "source": [
    "### 抽取10.2-10.15的control组"
   ]
  },
  {
   "cell_type": "code",
   "execution_count": 4,
   "metadata": {},
   "outputs": [],
   "source": [
    "df = pd.read_csv('./crop_images_10.2-10.15/control_selected_10.2-10.15.csv', index_col=0)\n",
    "\n",
    "# select单通道图像\n",
    "for ch in range(1, 5):\n",
    "    mkdir(f'./crop_images_10.2-10.15/ch{ch}_crop/control_selected')\n",
    "\n",
    "    src = f'./crop_images_10.2-10.15/ch{ch}_crop/control/'\n",
    "    dsc = f'./crop_images_10.2-10.15/ch{ch}_crop/control_selected/'\n",
    "    for fn in df[f'selected_ch{ch}']:\n",
    "        shutil.copy(src+fn, dsc)\n",
    "\n",
    "\n",
    "# select多通道图像\n",
    "foldernames = ['ch1ch2ch3','ch1ch2ch3ch4','ch1ch2ch4','ch1ch3ch4','ch2ch3ch4']\n",
    "for foldername in foldernames:\n",
    "    mkdir(f'./crop_images_10.2-10.15/crop_merge_{foldername}/control_selected')\n",
    "\n",
    "    src = f'./crop_images_10.2-10.15/crop_merge_{foldername}/control/'\n",
    "    dsc = f'./crop_images_10.2-10.15/crop_merge_{foldername}/control_selected/'\n",
    "    \n",
    "    for fn in df['selected_crop_merge']:\n",
    "        shutil.copy(src+fn, dsc)"
   ]
  },
  {
   "cell_type": "code",
   "execution_count": 7,
   "metadata": {},
   "outputs": [],
   "source": [
    "# 将10.2-10.15数据复制至相应文件夹\n",
    "def get_folders(path):\n",
    "    folders = []\n",
    "    files = os.listdir(path)\n",
    "    for file in files:\n",
    "        if os.path.isdir(os.path.join(path, file)):\n",
    "            folders.append(file)\n",
    "    return folders\n",
    "\n",
    "folders = get_folders('./crop_images_10.2-10.15/')\n",
    "for folder in folders:\n",
    "    groups = get_folders(f'./crop_images_10.2-10.15/{folder}/')\n",
    "\n",
    "    for group in groups:\n",
    "        objs = os.listdir(f'./crop_images_10.2-10.15/{folder}/{group}/')\n",
    "        for obj in objs:\n",
    "            src = os.path.join(f'./crop_images_10.2-10.15/{folder}/{group}/', obj)\n",
    "            dsc = os.path.join(f'./crop_images/{folder}/{group}/', obj)\n",
    "            shutil.copy(src, dsc)"
   ]
  },
  {
   "cell_type": "markdown",
   "metadata": {},
   "source": [
    "## 抽取测试集"
   ]
  },
  {
   "cell_type": "code",
   "execution_count": 8,
   "metadata": {},
   "outputs": [
    {
     "data": {
      "text/plain": [
       "['ch1_crop',\n",
       " 'ch2_crop',\n",
       " 'ch3_crop',\n",
       " 'ch4_crop',\n",
       " 'crop_merge_ch1ch2ch3',\n",
       " 'crop_merge_ch1ch2ch3ch4',\n",
       " 'crop_merge_ch1ch2ch4',\n",
       " 'crop_merge_ch1ch3ch4',\n",
       " 'crop_merge_ch2ch3ch4']"
      ]
     },
     "execution_count": 8,
     "metadata": {},
     "output_type": "execute_result"
    }
   ],
   "source": [
    "def get_folders(path):\n",
    "    folders = []\n",
    "    files = os.listdir(path)\n",
    "    for file in files:\n",
    "        if os.path.isdir(os.path.join(path, file)):\n",
    "            folders.append(file)\n",
    "    return folders\n",
    "\n",
    "folders = get_folders('./crop_images/')\n",
    "folders = [i for i in folders if i[0]=='c']\n",
    "folders"
   ]
  },
  {
   "cell_type": "code",
   "execution_count": 10,
   "metadata": {},
   "outputs": [],
   "source": [
    "# 生成测试集抽取列表\n",
    "groups = ['angii', 'control_selected', 'iso']\n",
    "for group in groups:\n",
    "    filenames = os.listdir(f'./crop_images/crop_merge_ch1ch2ch3/{group}/')\n",
    "    date_data = [i[:6] for i in filenames]\n",
    "    date_set = list(set(date_data))\n",
    "\n",
    "    date_count = Counter(date_data)\n",
    "\n",
    "    selected_images = []\n",
    "    for date in date_set:\n",
    "        temp = [i for i in filenames if i[:6]==date]\n",
    "        select_num = int(date_count[date] * 0.2)\n",
    "        selected_images.extend(sample(temp, select_num))\n",
    "\n",
    "    df = pd.DataFrame({'selected_crop_merge': selected_images})\n",
    "    df['selected_ch1'] = df.apply(lambda x: x['selected_crop_merge'][:20]+'ch1'+x['selected_crop_merge'][-11:], axis=1)\n",
    "    df['selected_ch2'] = df.apply(lambda x: x['selected_crop_merge'][:20]+'ch2'+x['selected_crop_merge'][-11:], axis=1)\n",
    "    df['selected_ch3'] = df.apply(lambda x: x['selected_crop_merge'][:20]+'ch3'+x['selected_crop_merge'][-11:], axis=1)\n",
    "    df['selected_ch4'] = df.apply(lambda x: x['selected_crop_merge'][:20]+'ch4'+x['selected_crop_merge'][-11:], axis=1)\n",
    "    df.to_csv(f'./crop_images/testset_{group}.csv')"
   ]
  },
  {
   "cell_type": "code",
   "execution_count": 11,
   "metadata": {},
   "outputs": [],
   "source": [
    "# 抽取单通道图像测试集\n",
    "groups = ['angii', 'control_selected', 'iso']\n",
    "\n",
    "\n",
    "for ch in range(1, 5):\n",
    "    mkdir(f'./crop_images/ch{ch}_crop_testset/')\n",
    "\n",
    "    for group in groups:\n",
    "        mkdir(f'./crop_images/ch{ch}_crop_testset/{group}/')\n",
    "\n",
    "        df = pd.read_csv(f'./crop_images/testset_{group}.csv')\n",
    "\n",
    "        src = f'./crop_images/ch{ch}_crop/{group}/'\n",
    "        dsc = f'./crop_images/ch{ch}_crop_testset/{group}/'\n",
    "        for fn in df[f'selected_ch{ch}']:\n",
    "            shutil.move(src+fn, dsc)"
   ]
  },
  {
   "cell_type": "code",
   "execution_count": null,
   "metadata": {},
   "outputs": [],
   "source": [
    "# 抽取多通道图像测试集\n",
    "foldernames = ['ch1ch2ch3','ch1ch2ch3ch4','ch1ch2ch4','ch1ch3ch4','ch2ch3ch4']\n",
    "groups = ['angii', 'control_selected', 'iso']\n",
    "\n",
    "for foldername in foldernames:\n",
    "    mkdir(f'./crop_images/crop_merge_{foldername}_testset/')\n",
    "\n",
    "    for group in groups:\n",
    "        mkdir(f'./crop_images/crop_merge_{foldername}_testset/{group}/')\n",
    "\n",
    "        df = pd.read_csv(f'./crop_images/testset_{group}.csv')\n",
    "\n",
    "\n",
    "        src = f'./crop_images/crop_merge_{foldername}/{group}/'\n",
    "        dsc = f'./crop_images/crop_merge_{foldername}_testset/{group}/'\n",
    "        \n",
    "        for fn in df['selected_crop_merge']:\n",
    "            shutil.move(src+fn, dsc)"
   ]
  }
 ],
 "metadata": {
  "kernelspec": {
   "display_name": "base",
   "language": "python",
   "name": "python3"
  },
  "language_info": {
   "codemirror_mode": {
    "name": "ipython",
    "version": 3
   },
   "file_extension": ".py",
   "mimetype": "text/x-python",
   "name": "python",
   "nbconvert_exporter": "python",
   "pygments_lexer": "ipython3",
   "version": "3.9.13"
  },
  "orig_nbformat": 4
 },
 "nbformat": 4,
 "nbformat_minor": 2
}
